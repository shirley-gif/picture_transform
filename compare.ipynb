{
 "cells": [
  {
   "cell_type": "code",
   "execution_count": 21,
   "id": "8f2b2a4f",
   "metadata": {},
   "outputs": [],
   "source": [
    "import pandas as pd\n",
    "\n",
    "# Load the CSV file (same path as before)\n",
    "src_path = \"2025-06-12compare.csv\"\n",
    "df = pd.read_csv(src_path)\n"
   ]
  },
  {
   "cell_type": "code",
   "execution_count": 22,
   "id": "b49013f9",
   "metadata": {},
   "outputs": [],
   "source": [
    "\n",
    "# Rename to generic column names (assume first four columns)\n",
    "df.columns = ['COLUMN1', 'COLUMN2', 'COLUMN3', 'COLUMN4' , 'COLUMN5']\n"
   ]
  },
  {
   "cell_type": "code",
   "execution_count": 23,
   "id": "3f337480",
   "metadata": {},
   "outputs": [],
   "source": [
    "\n",
    "# 1. Strip whitespace from COLUMN1 and COLUMN4\n",
    "df['COLUMN1'] = df['COLUMN1'].astype(str).str.strip()\n",
    "df['COLUMN4'] = df['COLUMN4'].astype(str).str.strip()\n"
   ]
  },
  {
   "cell_type": "code",
   "execution_count": 24,
   "id": "d4fb4eab",
   "metadata": {},
   "outputs": [
    {
     "name": "stdout",
     "output_type": "stream",
     "text": [
      "{'K00026641J', 'K00009812K', 'K00064688W', 'K00024044E', 'K00059347S', 'K00058182O', 'K00035788V', 'K00035033E', 'K00002492H', 'K00020267H', 'K00049543P', 'K00037524L', 'K00045922M', 'K00043469Q', 'K00052262H', 'K00037127K', 'K00003859P', 'K00064061H', 'K00034481K', 'K00045956T', 'K00017024E', 'K00036964S', 'K00064917R', 'K00046755R', 'K00019062I', 'K00035393N', 'K00047581P', 'K00016707L', 'K00018575Q', 'K00009266N', 'K00017353J', 'K00013234D', 'K00034283K', 'K00010288J', 'K00013733H', 'K00014525H', 'K00014859R', 'K00019640K', 'K00025631H', 'K00007270G', 'K00035649R', 'K00049261M', 'K00029067O', 'K00015217G', 'K00041363H', 'K00057781S', 'K00007132D', 'K00051050B', 'K00014972N', 'K00051987U', 'K00020997R', 'K00036748S', 'K00000685J', 'K00031871K', 'K000043007', 'K00040625H', 'K00041882N', 'K00010953I', 'K00043964Q', 'K000101169', 'K00057611K', 'nan', 'K00039663R', 'K00034897V', 'K00028565Q', 'K00045954R', 'K00045707N', 'K00058180M', 'K00067245O', 'K00018798X', 'K00051271G', 'K00067750P', 'K00052375M', 'K00025402D', 'K00040164F', 'K00062122D', 'K00015508J', 'K00019560L', 'K00062027H', 'K00039401H', 'K00029215J', 'K00027265M', 'K00019880Q', 'K00015914K', 'K00026905M', 'K00033679S', 'K00044796U', 'K00039962T', 'K00045957U', 'K00011957N', 'K00057160J', 'K00016646N', 'K00036514J', 'K00009903L', 'K00053437M', 'K00025633J', 'K00051937P', 'K00037128L', 'K00011136C', 'K00010958N', 'K000130059', 'K00011282E', 'K00014804H', 'K00016781N', 'K00051276L', 'K00020351B', 'K00031455I', 'K00029177Q', 'K00060485N', 'K00039662Q', 'K00051108F', 'K00010180A', 'K00031693M', 'K00030731E', 'K00061185L', 'K00018884T', 'K000010124', 'K00037937T', 'K00000038B', 'K00017293M', 'K00024447L', 'K00016257L', 'K00036439P', 'K00062975T', 'K00057166P', 'K00048174O', 'K00013622E', 'K00015716K', 'K00035743M', 'K00036559S', 'K00015698T', 'K00019402G', 'K00037671O', 'K00045427M', 'K00052319K', 'K00018434K', 'K00045170H', 'K00060962N', 'K00008705K', 'K00036535M', 'K00020957N', 'K00013298N', 'K00003658M', 'K00051207F', 'K00020435E', 'K00041093H', 'K00034440F', 'K00009854Q', 'K00016844N', 'K00053824M', 'K00041757O', 'K00022549M', 'K00010978P', 'K00004689R', 'K00024934M', 'K00037669V', 'K00061363J', 'K00005228H', 'K00025694Q', 'K00052557O', 'K00058186S', 'K00030242B', 'K00015754M', 'K00006674N', 'K00026166L', 'K00005135E', 'K00016731I', 'K00037525M', 'K00014669Q', 'K00049260L', 'K00020271C', 'K00022650F', 'K00000229D', 'K00067604N', 'K00026444K', 'K00066846U', 'K00059078T', 'K00046473O', 'K00019554O', 'K00017210B', 'K00000686K', 'K00045732L', 'K000102036', 'K00068259U', 'K00014910F', 'K00031628K', 'K00043980O', 'K00048692T', 'K00049498Y', 'K00012366I', 'K00067960S', 'K00035755P', 'K00060226G', 'K00014717K', 'K00043553K', 'K00032514F', 'K00012361D', 'K00033024C', 'K00035956S', 'K00007451H', 'K00048828U', 'K00066910M', 'K00010408D', 'K00003125B', 'K00002668M', 'K00027813L', 'K00019081J', 'K00039394S', 'K00058181N', 'K00035302D', 'K00062382L', 'K00036679V', 'K00040708J', 'K00005063E', 'K00038853R', 'K00025512F', 'K00040214B', 'K00008162H', 'K00004180D', 'K00025594P', 'K00052391K', 'K00023796R', 'K00039872T'}\n"
     ]
    }
   ],
   "source": [
    "\n",
    "# 2. Find MATCH values present in both COLUMN1 and COLUMN4\n",
    "match_set = set(df['COLUMN1']).intersection(df['COLUMN4'])\n",
    "print(match_set)\n"
   ]
  },
  {
   "cell_type": "code",
   "execution_count": 25,
   "id": "7312f9c9",
   "metadata": {},
   "outputs": [],
   "source": [
    "match_set.remove('nan')  # Remove empty strings if present"
   ]
  },
  {
   "cell_type": "code",
   "execution_count": null,
   "id": "3fdb0924",
   "metadata": {},
   "outputs": [],
   "source": [
    "\n",
    "# 3. Keep only rows where COLUMN4 is in MATCH, drop COLUMN1, retain COLUMN2-4\n",
    "result_df = df[df['COLUMN4'].isin(match_set)][['COLUMN2', 'COLUMN3', 'COLUMN4','COLUMN5']]\n",
    "\n",
    "# Save to a new CSV\n",
    "out_path = \"C2C3C4_MATCH_COLUMN5.csv\"\n",
    "result_df.to_csv(out_path, index=False)"
   ]
  }
 ],
 "metadata": {
  "kernelspec": {
   "display_name": "yolo8",
   "language": "python",
   "name": "python3"
  },
  "language_info": {
   "codemirror_mode": {
    "name": "ipython",
    "version": 3
   },
   "file_extension": ".py",
   "mimetype": "text/x-python",
   "name": "python",
   "nbconvert_exporter": "python",
   "pygments_lexer": "ipython3",
   "version": "3.10.16"
  }
 },
 "nbformat": 4,
 "nbformat_minor": 5
}
